{
 "cells": [
  {
   "cell_type": "markdown",
   "metadata": {
    "id": "GdmdVNQxh6Wy"
   },
   "source": [
    "# Importing the Data\n",
    "### by: TM"
   ]
  },
  {
   "cell_type": "code",
   "execution_count": 151,
   "metadata": {
    "id": "lRMSDWNfiznC",
    "scrolled": true
   },
   "outputs": [
    {
     "name": "stdout",
     "output_type": "stream",
     "text": [
      "Requirement already satisfied: ibllib in /opt/conda/lib/python3.7/site-packages (1.5.20)\n",
      "Requirement already satisfied: click>=7.0.0 in /opt/conda/lib/python3.7/site-packages (from ibllib) (7.1.2)\n",
      "Requirement already satisfied: scikit-learn>=0.22.1 in /opt/conda/lib/python3.7/site-packages (from ibllib) (0.23.2)\n",
      "Requirement already satisfied: tqdm>=4.32.1 in /opt/conda/lib/python3.7/site-packages (from ibllib) (4.51.0)\n",
      "Requirement already satisfied: numba in /opt/conda/lib/python3.7/site-packages (from ibllib) (0.49.1)\n",
      "Requirement already satisfied: phylib>=2.2 in /opt/conda/lib/python3.7/site-packages (from ibllib) (2.2)\n",
      "Requirement already satisfied: opencv-python in /opt/conda/lib/python3.7/site-packages (from ibllib) (4.4.0.46)\n",
      "Requirement already satisfied: flake8>=3.7.8 in /opt/conda/lib/python3.7/site-packages (from ibllib) (3.8.4)\n",
      "Requirement already satisfied: jupyter>=1.0 in /opt/conda/lib/python3.7/site-packages (from ibllib) (1.0.0)\n",
      "Requirement already satisfied: colorlog>=4.0.2 in /opt/conda/lib/python3.7/site-packages (from ibllib) (4.6.2)\n",
      "Requirement already satisfied: jupyterlab>=1.0 in /opt/conda/lib/python3.7/site-packages (from ibllib) (1.2.16)\n",
      "Requirement already satisfied: mtscomp>=1.0.1 in /opt/conda/lib/python3.7/site-packages (from ibllib) (1.0.1)\n",
      "Requirement already satisfied: pandas>=0.24.2 in /opt/conda/lib/python3.7/site-packages (from ibllib) (1.1.4)\n",
      "Requirement already satisfied: pyarrow in /opt/conda/lib/python3.7/site-packages (from ibllib) (2.0.0)\n",
      "Requirement already satisfied: matplotlib>=3.0.3 in /opt/conda/lib/python3.7/site-packages (from ibllib) (3.3.2)\n",
      "Requirement already satisfied: scipy>=1.3.0 in /opt/conda/lib/python3.7/site-packages (from ibllib) (1.5.3)\n",
      "Requirement already satisfied: pytest in /opt/conda/lib/python3.7/site-packages (from ibllib) (6.1.2)\n",
      "Requirement already satisfied: globus-sdk>=1.7.1 in /opt/conda/lib/python3.7/site-packages (from ibllib) (1.9.1)\n",
      "Requirement already satisfied: numpy>=1.18 in /opt/conda/lib/python3.7/site-packages (from ibllib) (1.18.5)\n",
      "Requirement already satisfied: pynrrd>=0.4.0 in /opt/conda/lib/python3.7/site-packages (from ibllib) (0.4.2)\n",
      "Requirement already satisfied: seaborn>=0.9.0 in /opt/conda/lib/python3.7/site-packages (from ibllib) (0.11.0)\n",
      "Requirement already satisfied: graphviz in /opt/conda/lib/python3.7/site-packages (from ibllib) (0.15)\n",
      "Requirement already satisfied: requests>=2.22.0 in /opt/conda/lib/python3.7/site-packages (from ibllib) (2.24.0)\n",
      "Requirement already satisfied: threadpoolctl>=2.0.0 in /opt/conda/lib/python3.7/site-packages (from scikit-learn>=0.22.1->ibllib) (2.1.0)\n",
      "Requirement already satisfied: joblib>=0.11 in /opt/conda/lib/python3.7/site-packages (from scikit-learn>=0.22.1->ibllib) (0.17.0)\n",
      "Requirement already satisfied: setuptools in /opt/conda/lib/python3.7/site-packages (from numba->ibllib) (49.6.0.post20201009)\n",
      "Requirement already satisfied: llvmlite<=0.33.0.dev0,>=0.31.0.dev0 in /opt/conda/lib/python3.7/site-packages (from numba->ibllib) (0.32.1)\n",
      "Requirement already satisfied: dask in /opt/conda/lib/python3.7/site-packages (from phylib>=2.2->ibllib) (2.30.0)\n",
      "Requirement already satisfied: toolz in /opt/conda/lib/python3.7/site-packages (from phylib>=2.2->ibllib) (0.11.1)\n",
      "Requirement already satisfied: importlib-metadata; python_version < \"3.8\" in /opt/conda/lib/python3.7/site-packages (from flake8>=3.7.8->ibllib) (2.0.0)\n",
      "Requirement already satisfied: mccabe<0.7.0,>=0.6.0 in /opt/conda/lib/python3.7/site-packages (from flake8>=3.7.8->ibllib) (0.6.1)\n",
      "Requirement already satisfied: pyflakes<2.3.0,>=2.2.0 in /opt/conda/lib/python3.7/site-packages (from flake8>=3.7.8->ibllib) (2.2.0)\n",
      "Requirement already satisfied: pycodestyle<2.7.0,>=2.6.0a1 in /opt/conda/lib/python3.7/site-packages (from flake8>=3.7.8->ibllib) (2.6.0)\n",
      "Requirement already satisfied: nbconvert in /opt/conda/lib/python3.7/site-packages (from jupyter>=1.0->ibllib) (5.6.1)\n",
      "Requirement already satisfied: jupyter-console in /opt/conda/lib/python3.7/site-packages (from jupyter>=1.0->ibllib) (6.2.0)\n",
      "Requirement already satisfied: qtconsole in /opt/conda/lib/python3.7/site-packages (from jupyter>=1.0->ibllib) (4.7.7)\n",
      "Requirement already satisfied: notebook in /opt/conda/lib/python3.7/site-packages (from jupyter>=1.0->ibllib) (6.1.4)\n",
      "Requirement already satisfied: ipywidgets in /opt/conda/lib/python3.7/site-packages (from jupyter>=1.0->ibllib) (7.5.1)\n",
      "Requirement already satisfied: ipykernel in /opt/conda/lib/python3.7/site-packages (from jupyter>=1.0->ibllib) (5.3.4)\n",
      "Requirement already satisfied: tornado!=6.0.0,!=6.0.1,!=6.0.2 in /opt/conda/lib/python3.7/site-packages (from jupyterlab>=1.0->ibllib) (6.1)\n",
      "Requirement already satisfied: jupyterlab_server~=1.0 in /opt/conda/lib/python3.7/site-packages (from jupyterlab>=1.0->ibllib) (1.2.0)\n",
      "Requirement already satisfied: jinja2>=2.10 in /opt/conda/lib/python3.7/site-packages (from jupyterlab>=1.0->ibllib) (2.11.2)\n",
      "Requirement already satisfied: python-dateutil>=2.7.3 in /opt/conda/lib/python3.7/site-packages (from pandas>=0.24.2->ibllib) (2.8.1)\n",
      "Requirement already satisfied: pytz>=2017.2 in /opt/conda/lib/python3.7/site-packages (from pandas>=0.24.2->ibllib) (2020.1)\n",
      "Requirement already satisfied: cycler>=0.10 in /opt/conda/lib/python3.7/site-packages (from matplotlib>=3.0.3->ibllib) (0.10.0)\n",
      "Requirement already satisfied: kiwisolver>=1.0.1 in /opt/conda/lib/python3.7/site-packages (from matplotlib>=3.0.3->ibllib) (1.3.1)\n",
      "Requirement already satisfied: certifi>=2020.06.20 in /opt/conda/lib/python3.7/site-packages (from matplotlib>=3.0.3->ibllib) (2020.6.20)\n",
      "Requirement already satisfied: pillow>=6.2.0 in /opt/conda/lib/python3.7/site-packages (from matplotlib>=3.0.3->ibllib) (8.0.1)\n",
      "Requirement already satisfied: pyparsing!=2.0.4,!=2.1.2,!=2.1.6,>=2.0.3 in /opt/conda/lib/python3.7/site-packages (from matplotlib>=3.0.3->ibllib) (2.4.7)\n",
      "Requirement already satisfied: attrs>=17.4.0 in /opt/conda/lib/python3.7/site-packages (from pytest->ibllib) (20.2.0)\n",
      "Requirement already satisfied: iniconfig in /opt/conda/lib/python3.7/site-packages (from pytest->ibllib) (1.1.1)\n",
      "Requirement already satisfied: packaging in /opt/conda/lib/python3.7/site-packages (from pytest->ibllib) (20.4)\n",
      "Requirement already satisfied: pluggy<1.0,>=0.12 in /opt/conda/lib/python3.7/site-packages (from pytest->ibllib) (0.13.1)\n",
      "Requirement already satisfied: py>=1.8.2 in /opt/conda/lib/python3.7/site-packages (from pytest->ibllib) (1.9.0)\n",
      "Requirement already satisfied: toml in /opt/conda/lib/python3.7/site-packages (from pytest->ibllib) (0.10.2)\n",
      "Requirement already satisfied: pyjwt[crypto]<2.0.0,>=1.5.3 in /opt/conda/lib/python3.7/site-packages (from globus-sdk>=1.7.1->ibllib) (1.7.1)\n",
      "Requirement already satisfied: six<2.0.0,>=1.10.0 in /opt/conda/lib/python3.7/site-packages (from globus-sdk>=1.7.1->ibllib) (1.15.0)\n",
      "Requirement already satisfied: idna<3,>=2.5 in /opt/conda/lib/python3.7/site-packages (from requests>=2.22.0->ibllib) (2.10)\n",
      "Requirement already satisfied: chardet<4,>=3.0.2 in /opt/conda/lib/python3.7/site-packages (from requests>=2.22.0->ibllib) (3.0.4)\n",
      "Requirement already satisfied: urllib3!=1.25.0,!=1.25.1,<1.26,>=1.21.1 in /opt/conda/lib/python3.7/site-packages (from requests>=2.22.0->ibllib) (1.25.11)\n",
      "Requirement already satisfied: pyyaml in /opt/conda/lib/python3.7/site-packages (from dask->phylib>=2.2->ibllib) (5.3.1)\n",
      "Requirement already satisfied: zipp>=0.5 in /opt/conda/lib/python3.7/site-packages (from importlib-metadata; python_version < \"3.8\"->flake8>=3.7.8->ibllib) (3.4.0)\n",
      "Requirement already satisfied: bleach in /opt/conda/lib/python3.7/site-packages (from nbconvert->jupyter>=1.0->ibllib) (3.2.1)\n",
      "Requirement already satisfied: defusedxml in /opt/conda/lib/python3.7/site-packages (from nbconvert->jupyter>=1.0->ibllib) (0.6.0)\n",
      "Requirement already satisfied: traitlets>=4.2 in /opt/conda/lib/python3.7/site-packages (from nbconvert->jupyter>=1.0->ibllib) (5.0.5)\n",
      "Requirement already satisfied: mistune<2,>=0.8.1 in /opt/conda/lib/python3.7/site-packages (from nbconvert->jupyter>=1.0->ibllib) (0.8.4)\n",
      "Requirement already satisfied: testpath in /opt/conda/lib/python3.7/site-packages (from nbconvert->jupyter>=1.0->ibllib) (0.4.4)\n",
      "Requirement already satisfied: pandocfilters>=1.4.1 in /opt/conda/lib/python3.7/site-packages (from nbconvert->jupyter>=1.0->ibllib) (1.4.2)\n",
      "Requirement already satisfied: nbformat>=4.4 in /opt/conda/lib/python3.7/site-packages (from nbconvert->jupyter>=1.0->ibllib) (5.0.8)\n",
      "Requirement already satisfied: jupyter-core in /opt/conda/lib/python3.7/site-packages (from nbconvert->jupyter>=1.0->ibllib) (4.6.3)\n",
      "Requirement already satisfied: pygments in /opt/conda/lib/python3.7/site-packages (from nbconvert->jupyter>=1.0->ibllib) (2.7.2)\n",
      "Requirement already satisfied: entrypoints>=0.2.2 in /opt/conda/lib/python3.7/site-packages (from nbconvert->jupyter>=1.0->ibllib) (0.3)\n",
      "Requirement already satisfied: ipython in /opt/conda/lib/python3.7/site-packages (from jupyter-console->jupyter>=1.0->ibllib) (7.19.0)\n",
      "Requirement already satisfied: jupyter-client in /opt/conda/lib/python3.7/site-packages (from jupyter-console->jupyter>=1.0->ibllib) (6.1.7)\n",
      "Requirement already satisfied: prompt-toolkit!=3.0.0,!=3.0.1,<3.1.0,>=2.0.0 in /opt/conda/lib/python3.7/site-packages (from jupyter-console->jupyter>=1.0->ibllib) (3.0.8)\n",
      "Requirement already satisfied: ipython-genutils in /opt/conda/lib/python3.7/site-packages (from qtconsole->jupyter>=1.0->ibllib) (0.2.0)\n",
      "Requirement already satisfied: pyzmq>=17.1 in /opt/conda/lib/python3.7/site-packages (from qtconsole->jupyter>=1.0->ibllib) (19.0.2)\n",
      "Requirement already satisfied: qtpy in /opt/conda/lib/python3.7/site-packages (from qtconsole->jupyter>=1.0->ibllib) (1.9.0)\n",
      "Requirement already satisfied: terminado>=0.8.3 in /opt/conda/lib/python3.7/site-packages (from notebook->jupyter>=1.0->ibllib) (0.9.1)\n",
      "Requirement already satisfied: Send2Trash in /opt/conda/lib/python3.7/site-packages (from notebook->jupyter>=1.0->ibllib) (1.5.0)\n",
      "Requirement already satisfied: prometheus-client in /opt/conda/lib/python3.7/site-packages (from notebook->jupyter>=1.0->ibllib) (0.8.0)\n",
      "Requirement already satisfied: argon2-cffi in /opt/conda/lib/python3.7/site-packages (from notebook->jupyter>=1.0->ibllib) (20.1.0)\n",
      "Requirement already satisfied: widgetsnbextension~=3.5.0 in /opt/conda/lib/python3.7/site-packages (from ipywidgets->jupyter>=1.0->ibllib) (3.5.1)\n",
      "Requirement already satisfied: jsonschema>=3.0.1 in /opt/conda/lib/python3.7/site-packages (from jupyterlab_server~=1.0->jupyterlab>=1.0->ibllib) (3.2.0)\n",
      "Requirement already satisfied: json5 in /opt/conda/lib/python3.7/site-packages (from jupyterlab_server~=1.0->jupyterlab>=1.0->ibllib) (0.9.5)\n",
      "Requirement already satisfied: MarkupSafe>=0.23 in /opt/conda/lib/python3.7/site-packages (from jinja2>=2.10->jupyterlab>=1.0->ibllib) (1.1.1)\n",
      "Requirement already satisfied: cryptography>=1.4; extra == \"crypto\" in /opt/conda/lib/python3.7/site-packages (from pyjwt[crypto]<2.0.0,>=1.5.3->globus-sdk>=1.7.1->ibllib) (3.2.1)\n",
      "Requirement already satisfied: webencodings in /opt/conda/lib/python3.7/site-packages (from bleach->nbconvert->jupyter>=1.0->ibllib) (0.5.1)\n",
      "Requirement already satisfied: decorator in /opt/conda/lib/python3.7/site-packages (from ipython->jupyter-console->jupyter>=1.0->ibllib) (4.4.2)\n",
      "Requirement already satisfied: jedi>=0.10 in /opt/conda/lib/python3.7/site-packages (from ipython->jupyter-console->jupyter>=1.0->ibllib) (0.17.1)\n",
      "Requirement already satisfied: backcall in /opt/conda/lib/python3.7/site-packages (from ipython->jupyter-console->jupyter>=1.0->ibllib) (0.2.0)\n",
      "Requirement already satisfied: pexpect>4.3; sys_platform != \"win32\" in /opt/conda/lib/python3.7/site-packages (from ipython->jupyter-console->jupyter>=1.0->ibllib) (4.8.0)\n",
      "Requirement already satisfied: pickleshare in /opt/conda/lib/python3.7/site-packages (from ipython->jupyter-console->jupyter>=1.0->ibllib) (0.7.5)\n",
      "Requirement already satisfied: wcwidth in /opt/conda/lib/python3.7/site-packages (from prompt-toolkit!=3.0.0,!=3.0.1,<3.1.0,>=2.0.0->jupyter-console->jupyter>=1.0->ibllib) (0.2.5)\n",
      "Requirement already satisfied: ptyprocess; os_name != \"nt\" in /opt/conda/lib/python3.7/site-packages (from terminado>=0.8.3->notebook->jupyter>=1.0->ibllib) (0.6.0)\n",
      "Requirement already satisfied: cffi>=1.0.0 in /opt/conda/lib/python3.7/site-packages (from argon2-cffi->notebook->jupyter>=1.0->ibllib) (1.14.3)\n",
      "Requirement already satisfied: pyrsistent>=0.14.0 in /opt/conda/lib/python3.7/site-packages (from jsonschema>=3.0.1->jupyterlab_server~=1.0->jupyterlab>=1.0->ibllib) (0.17.3)\n",
      "Requirement already satisfied: parso<0.8.0,>=0.7.0 in /opt/conda/lib/python3.7/site-packages (from jedi>=0.10->ipython->jupyter-console->jupyter>=1.0->ibllib) (0.7.0)\n",
      "Requirement already satisfied: pycparser in /opt/conda/lib/python3.7/site-packages (from cffi>=1.0.0->argon2-cffi->notebook->jupyter>=1.0->ibllib) (2.20)\n",
      "Requirement already satisfied: torch in /opt/conda/lib/python3.7/site-packages (1.7.0)\n",
      "Requirement already satisfied: numpy in /opt/conda/lib/python3.7/site-packages (from torch) (1.18.5)\n",
      "Requirement already satisfied: future in /opt/conda/lib/python3.7/site-packages (from torch) (0.18.2)\n",
      "Requirement already satisfied: dataclasses in /opt/conda/lib/python3.7/site-packages (from torch) (0.6)\n",
      "Requirement already satisfied: typing-extensions in /opt/conda/lib/python3.7/site-packages (from torch) (3.7.4.3)\n"
     ]
    }
   ],
   "source": [
    "# Installing packages\n",
    "!pip install ibllib\n",
    "!pip install torch"
   ]
  },
  {
   "cell_type": "code",
   "execution_count": 152,
   "metadata": {
    "executionInfo": {
     "elapsed": 478,
     "status": "ok",
     "timestamp": 1605251401525,
     "user": {
      "displayName": "Taha Morshedzadeh",
      "photoUrl": "https://lh3.googleusercontent.com/a-/AOh14Gh29W7OEIesPnh2lCnBysgeMinI_DbKh1NMCPSB2_8=s64",
      "userId": "11165265107783296413"
     },
     "user_tz": 300
    },
    "id": "0IFtz4dijl1V"
   },
   "outputs": [],
   "source": [
    "# @title Import the packages\n",
    "import numpy as np\n",
    "import matplotlib.pyplot as plt\n",
    "from oneibl.onelight import ONE\n",
    "import os\n",
    "import torch\n",
    "\n",
    "one = ONE()"
   ]
  },
  {
   "cell_type": "code",
   "execution_count": 153,
   "metadata": {
    "executionInfo": {
     "elapsed": 332,
     "status": "ok",
     "timestamp": 1605251418462,
     "user": {
      "displayName": "Taha Morshedzadeh",
      "photoUrl": "https://lh3.googleusercontent.com/a-/AOh14Gh29W7OEIesPnh2lCnBysgeMinI_DbKh1NMCPSB2_8=s64",
      "userId": "11165265107783296413"
     },
     "user_tz": 300
    },
    "id": "Lvbs5d0spc_B"
   },
   "outputs": [],
   "source": [
    "# @title Set some global variables\n",
    "figsize = [12,12]\n",
    "dpi = 400"
   ]
  },
  {
   "cell_type": "code",
   "execution_count": 154,
   "metadata": {},
   "outputs": [],
   "source": [
    "# @title Setting up helper functions\n",
    "def load_data(sn):\n",
    "    \"\"\" loads the data to RAM.\n",
    "    Args\n",
    "        - inputs:\n",
    "            sn: (np.1darray) the number of the desired session\n",
    "        - outputs:\n",
    "            spikes: (dict) dictionary including spike data\n",
    "            wheelmoves: (dict) dictionary including wheel movement data\n",
    "    \"\"\"\n",
    "    session = sessions[sn];\n",
    "    spikes = one.load_object(session, 'spikes');\n",
    "    wheelmoves = one.load_object(session, 'wheelMoves');\n",
    "    return spikes, wheelmoves\n",
    "    \n",
    "def plot_session_raster(sn):\n",
    "    \"\"\" plots the raster for the spikes on the specified session number (sn) from the ONE data.\n",
    "        Args:\n",
    "        - inputs:\n",
    "            sn: (np.1darray) the number of the desired session\n",
    "        - outputs:\n",
    "            1. matplotlib figure\n",
    "            2. also saves it to the $pwd as \"%$sn.png\".\n",
    "    \"\"\"\n",
    "    spikeraster = plt.figure(figsize=figsize, dpi=dpi);\n",
    "    spikeraster = plt.axis(\"off\");\n",
    "    spikeraster = plt.plot(sp, cl, ',');\n",
    "    spikeraster = plt.vlines(wheelmoves['intervals'], 0, max(spikes['clusters']), 'r', lw=0.1)\n",
    "    plt.savefig(\"%s.png\" % sn, dpi=dpi)\n",
    "    \n",
    "def plot_trial_raster(tn):\n",
    "    \"\"\" plots the raster for the spikes on the specified trial number (tn) from the ONE data.\n",
    "        Args:\n",
    "        - inputs:\n",
    "            tn: (np.1darray) the number of the desired trial\n",
    "        - outputs:\n",
    "            matplotlib.plt figure\n",
    "    \"\"\"\n",
    "    spikeraster = plt.figure(figsize=[4,4], dpi=dpi/6);\n",
    "    spikeraster = plt.axis(\"off\");\n",
    "    spikeraster = plt.plot((trials[tn])[0],(trials[tn])[1], ',');"
   ]
  },
  {
   "cell_type": "code",
   "execution_count": 155,
   "metadata": {
    "cellView": "form",
    "colab": {
     "base_uri": "https://localhost:8080/"
    },
    "executionInfo": {
     "elapsed": 781202,
     "status": "ok",
     "timestamp": 1605089869690,
     "user": {
      "displayName": "Taha Morshedzadeh",
      "photoUrl": "https://lh3.googleusercontent.com/a-/AOh14Gh29W7OEIesPnh2lCnBysgeMinI_DbKh1NMCPSB2_8=s64",
      "userId": "11165265107783296413"
     },
     "user_tz": 300
    },
    "id": "MwwiWasJw6Py",
    "outputId": "17bf6ae3-182c-422a-88f7-2e1eccc19890"
   },
   "outputs": [],
   "source": [
    "# # @title **[do not run]** Download the files from source (No need to run. The files are already stored in the GDrive, and are also availble through ONE)\n",
    "# # Run this field if you do not have the necessary files on GDrive. This will take approx 15 GB of space ~35-40 min of time!\n",
    "\n",
    "\n",
    "# !unzip \"!wget https://ndownloader.figshare.com/articles/9974357/versions/2\"\n",
    "# %cp /content/nicklab* '/content/gdrive/My Drive/Project/Datasets/Steinemtz/Train' -rv"
   ]
  },
  {
   "cell_type": "markdown",
   "metadata": {
    "id": "EJNJIUhfmgk-"
   },
   "source": [
    "----\n",
    "### Import data from FigShare to `ONE`\n",
    "Run this field if you prefer to work from the online data. The API will only download the files you specify with `load_object`."
   ]
  },
  {
   "cell_type": "code",
   "execution_count": 156,
   "metadata": {
    "id": "6fQYuoJ4kkYe"
   },
   "outputs": [
    {
     "data": {
      "text/plain": [
       "['nicklab/Subjects/Cori/2016-12-14/001',\n",
       " 'nicklab/Subjects/Cori/2016-12-17/001',\n",
       " 'nicklab/Subjects/Cori/2016-12-18/001',\n",
       " 'nicklab/Subjects/Forssmann/2017-11-01/001',\n",
       " 'nicklab/Subjects/Forssmann/2017-11-02/001',\n",
       " 'nicklab/Subjects/Forssmann/2017-11-04/001',\n",
       " 'nicklab/Subjects/Forssmann/2017-11-05/001',\n",
       " 'nicklab/Subjects/Hench/2017-06-15/001',\n",
       " 'nicklab/Subjects/Hench/2017-06-16/001',\n",
       " 'nicklab/Subjects/Hench/2017-06-17/001',\n",
       " 'nicklab/Subjects/Hench/2017-06-18/001',\n",
       " 'nicklab/Subjects/Lederberg/2017-12-05/001',\n",
       " 'nicklab/Subjects/Lederberg/2017-12-06/001',\n",
       " 'nicklab/Subjects/Lederberg/2017-12-07/001',\n",
       " 'nicklab/Subjects/Lederberg/2017-12-08/001',\n",
       " 'nicklab/Subjects/Lederberg/2017-12-09/001',\n",
       " 'nicklab/Subjects/Lederberg/2017-12-10/001',\n",
       " 'nicklab/Subjects/Lederberg/2017-12-11/001',\n",
       " 'nicklab/Subjects/Moniz/2017-05-15/001',\n",
       " 'nicklab/Subjects/Moniz/2017-05-16/001',\n",
       " 'nicklab/Subjects/Moniz/2017-05-18/001',\n",
       " 'nicklab/Subjects/Muller/2017-01-07/001',\n",
       " 'nicklab/Subjects/Muller/2017-01-08/001',\n",
       " 'nicklab/Subjects/Muller/2017-01-09/001',\n",
       " 'nicklab/Subjects/Radnitz/2017-01-08/001',\n",
       " 'nicklab/Subjects/Radnitz/2017-01-09/001',\n",
       " 'nicklab/Subjects/Radnitz/2017-01-10/001',\n",
       " 'nicklab/Subjects/Radnitz/2017-01-11/001',\n",
       " 'nicklab/Subjects/Radnitz/2017-01-12/001',\n",
       " 'nicklab/Subjects/Richards/2017-10-29/001',\n",
       " 'nicklab/Subjects/Richards/2017-10-30/001',\n",
       " 'nicklab/Subjects/Richards/2017-10-31/001',\n",
       " 'nicklab/Subjects/Richards/2017-11-01/001',\n",
       " 'nicklab/Subjects/Richards/2017-11-02/001',\n",
       " 'nicklab/Subjects/Tatum/2017-12-06/001',\n",
       " 'nicklab/Subjects/Tatum/2017-12-07/001',\n",
       " 'nicklab/Subjects/Tatum/2017-12-08/001',\n",
       " 'nicklab/Subjects/Tatum/2017-12-09/001',\n",
       " 'nicklab/Subjects/Theiler/2017-10-11/001']"
      ]
     },
     "execution_count": 156,
     "metadata": {},
     "output_type": "execute_result"
    }
   ],
   "source": [
    "# # Import from this link:\n",
    "\n",
    "one.set_figshare_url(\"https://figshare.com/articles/steinmetz/9974357\");\n",
    "sessions = one.search(['spikes'])\n",
    "sessions"
   ]
  },
  {
   "cell_type": "markdown",
   "metadata": {},
   "source": [
    "## The list of the sessions:\n",
    "- The first 5 (0 through 4) are the test set\n",
    "- The second 5 (5 through 9) are the validation set\n",
    "- The other 29 (10 through 38) are the training set"
   ]
  },
  {
   "cell_type": "markdown",
   "metadata": {},
   "source": [
    "## Import to RAM:\n",
    "The choice `sn` sets the session number from the list above.\n",
    "\n",
    "We will use the helper functions `load_data` and `plot_raster` to repsectively import the data from ONE API and to plot the raster plot based on the times and clusters of neurons. ONE API uses `memmaps`, which means the matrices stay in the long-term storage and only a soft link is stored in storage, until immutations are done.\n"
   ]
  },
  {
   "cell_type": "code",
   "execution_count": 157,
   "metadata": {},
   "outputs": [],
   "source": [
    "# sn = 16\n",
    "\n",
    "# spikes, wheelmoves = load_data(sn)\n",
    "\n",
    "# sp = spikes['times'][:,0]  # spike times\n",
    "# cl = spikes['clusters'][:,0]   # spike clusters\n",
    "# am = spikes['amps'][:,0]\n",
    "# ints = wheelmoves['intervals']  # intervals of moving the wheel [in seconds]\n",
    "\n",
    "# # Extracting metadata:\n",
    "# srate = len(spikes['times'])/spikes['times'][-1]\n",
    "# dt = 1/srate\n",
    "\n",
    "\n",
    "# intpts = ints * srate  # intervals of moving the wheel [datapoints]\n",
    "# intpts = np.round(intpts).astype(int)\n",
    "# moves = wheelmoves['intervals'][:,1]-wheelmoves['intervals'][:,0]  # length of each interval\n",
    "# wmt = wheelmoves['type']\n",
    "\n",
    "# # ## Clean up the wheel moves. Some seem to have NaN or abnormal activity recorded,\n",
    "# # ## we will discard those as immobile. Immutes the dict:\n",
    "\n",
    "# for i in range(len(wmt)):\n",
    "#     if wmt[i][0]==3:\n",
    "#         wmt[i][0] = 0\n",
    "\n",
    "# print('Sampling rate of this set is approximately %s Hz' % round(srate[0],2))"
   ]
  },
  {
   "cell_type": "markdown",
   "metadata": {
    "id": "h9Gmpl8hPbPL"
   },
   "source": [
    "This will yield two dictionaries:\n",
    "#### **1.** `spikes`\n",
    "- `amps`: **amplitudes of the spikes**\n",
    "- `clusters`:  **spatial index (location)** \n",
    "- `depths`: **diff between the amplitudes of the spike and the directly previous spike\"\n",
    "- `times`: **temporal index**\n",
    "\n",
    "We will mainly use the `clusters` and the `times` of the spikes.\n",
    "\n",
    "#### **2.** `wheels`\n",
    "with the keys:\n",
    "- `position`\n",
    "- `timestamps`"
   ]
  },
  {
   "cell_type": "code",
   "execution_count": 158,
   "metadata": {
    "colab": {
     "base_uri": "https://localhost:8080/",
     "height": 1000
    },
    "executionInfo": {
     "elapsed": 18806,
     "status": "ok",
     "timestamp": 1605251462340,
     "user": {
      "displayName": "Taha Morshedzadeh",
      "photoUrl": "https://lh3.googleusercontent.com/a-/AOh14Gh29W7OEIesPnh2lCnBysgeMinI_DbKh1NMCPSB2_8=s64",
      "userId": "11165265107783296413"
     },
     "user_tz": 300
    },
    "id": "dc_VIJfSWTYQ",
    "outputId": "00d84599-fabe-4b49-ef96-a29321157012"
   },
   "outputs": [],
   "source": [
    "# # Raster plot of all spikes based on `sp` and `cl` in the whole session\n",
    "\n",
    "# plot_session_raster(sn)"
   ]
  },
  {
   "cell_type": "markdown",
   "metadata": {
    "id": "vOuHHCoTcew3"
   },
   "source": [
    "## Extracting the events from the dataset\n",
    "\n",
    "The extracted data are:\n",
    "- `trials[i][0]`: spike timing\n",
    "- `trials[i][1]`: spike location (cluster)\n",
    "- `trials[i][2]`: spike amplitude\n",
    "- `wmt[i]`: wheel movement type. `0`=flinch or motionless `1`=clockwise, `2`=counterclockwise"
   ]
  },
  {
   "cell_type": "code",
   "execution_count": 159,
   "metadata": {},
   "outputs": [],
   "source": [
    "# train_data = []\n",
    "# single_vector_wmt = np.squeeze(wmt)\n",
    "# for i in range(len(trials)):\n",
    "#     train_data.append([np.expand_dims(matrix_of_trials[i], axis=0).astype(float), single_vector_wmt[i]])"
   ]
  },
  {
   "cell_type": "code",
   "execution_count": 160,
   "metadata": {},
   "outputs": [],
   "source": [
    "# trainloader = torch.utils.data.DataLoader(train_data[:500], shuffle=True, batch_size=32)\n",
    "# i1, l1 = next(iter(trainloader))\n",
    "# print(i1.shape)"
   ]
  },
  {
   "cell_type": "code",
   "execution_count": 161,
   "metadata": {},
   "outputs": [],
   "source": [
    "# print(l1.shape)"
   ]
  },
  {
   "cell_type": "code",
   "execution_count": 162,
   "metadata": {},
   "outputs": [],
   "source": [
    "def get_session_data(sn: int):\n",
    "    spikes, wheelmoves = load_data(sn)\n",
    "\n",
    "    sp = spikes['times'][:,0]  # spike times\n",
    "    cl = spikes['clusters'][:,0]   # spike clusters\n",
    "    am = spikes['amps'][:,0]\n",
    "    ints = wheelmoves['intervals']  # intervals of moving the wheel [in seconds]\n",
    "\n",
    "    # Extracting metadata:\n",
    "    srate = len(spikes['times'])/spikes['times'][-1]\n",
    "    dt = 1/srate\n",
    "\n",
    "\n",
    "    intpts = ints * srate  # intervals of moving the wheel [datapoints]\n",
    "    intpts = np.round(intpts).astype(int)\n",
    "    moves = wheelmoves['intervals'][:,1]-wheelmoves['intervals'][:,0]  # length of each interval\n",
    "    wmt = wheelmoves['type']\n",
    "\n",
    "    # ## Clean up the wheel moves. Some seem to have NaN or abnormal activity recorded,\n",
    "    # ## we will discard those as immobile. Immutes the dict:\n",
    "\n",
    "    for i in range(len(wmt)):\n",
    "        if wmt[i][0]==3:\n",
    "            wmt[i][0] = 0\n",
    "            \n",
    "    trials = [np.hstack([np.vstack([[sp[intpts[i,0]:intpts[i,1]]],\n",
    "                                    [cl[intpts[i,0]:intpts[i,1]]],\n",
    "                                    [am[intpts[i,0]:intpts[i,1]]]])]) for i in range(len(ints))]\n",
    "    new_min = 0\n",
    "    new_max = 749\n",
    "    matrix_of_trials = np.zeros((len(trials), new_max+1, new_max+1))\n",
    "\n",
    "    for i, trial in enumerate(trials):\n",
    "        trial = np.array(trial)\n",
    "        old_min = np.amin(trial[0])\n",
    "        old_max = np.amax(trial[0])\n",
    "\n",
    "        old_range = old_max - old_min\n",
    "        new_range = new_max - new_min\n",
    "\n",
    "        trial[0] = ((trial[0] - old_min) * new_range / old_range) + new_min\n",
    "        matrix_of_trials[i, trial[0].astype(int), trial[1].astype(int)] = trial[2]\n",
    "        \n",
    "    session_data = []\n",
    "    single_vector_wmt = np.squeeze(wmt)\n",
    "    for i in range(len(trials)):\n",
    "        session_data.append([np.expand_dims(matrix_of_trials[i], axis=0).astype(float), single_vector_wmt[i]])\n",
    "        \n",
    "    return session_data"
   ]
  },
  {
   "cell_type": "code",
   "execution_count": 163,
   "metadata": {},
   "outputs": [
    {
     "name": "stdout",
     "output_type": "stream",
     "text": [
      "722\n",
      "demo: 0-35; val: 36-143; test: 144-251; train: 252-720\n"
     ]
    }
   ],
   "source": [
    "data = get_session_data(sn=16)\n",
    "\n",
    "print(len(data))\n",
    "\n",
    "### Full Data Acquisition\n",
    "from math import ceil\n",
    "\n",
    "demo_ratio = .05\n",
    "val_ratio = .15\n",
    "test_ratio = .15\n",
    "train_ratio = 1 - (demo_ratio + val_ratio + test_ratio)\n",
    "\n",
    "last_trial_idx = len(data)\n",
    "demo_idx = int(last_trial_idx * demo_ratio)\n",
    "val_idx = demo_idx + int(last_trial_idx * val_ratio)\n",
    "test_idx = val_idx + int(last_trial_idx * test_ratio)\n",
    "train_idx = test_idx + int(last_trial_idx * train_ratio)\n",
    "\n",
    "print(\"demo: 0-{}; val: {}-{}; test: {}-{}; train: {}-{}\".format(\n",
    "    demo_idx-1,\n",
    "    demo_idx, val_idx-1,\n",
    "    val_idx, test_idx-1,\n",
    "    test_idx, train_idx-1\n",
    "))"
   ]
  },
  {
   "cell_type": "markdown",
   "metadata": {},
   "source": [
    "## Build Baseline Model - CNN\n"
   ]
  },
  {
   "cell_type": "code",
   "execution_count": 164,
   "metadata": {},
   "outputs": [],
   "source": [
    "import torch\n",
    "import numpy as np\n",
    "\n",
    "import torchvision\n",
    "import torch.nn as nn\n",
    "import torch.optim as optim\n",
    "import torch.nn.functional as F\n",
    "import matplotlib.pyplot as plt\n",
    "\n",
    "from torchvision import transforms\n",
    "\n",
    "import torch.fft as fft"
   ]
  },
  {
   "cell_type": "code",
   "execution_count": 254,
   "metadata": {},
   "outputs": [
    {
     "name": "stdout",
     "output_type": "stream",
     "text": [
      "Neural Network Architecture Selected\n"
     ]
    }
   ],
   "source": [
    "output_channels_1 = 32\n",
    "output_channels_2 = 64\n",
    "output_channels_3 = 128\n",
    "k = 5\n",
    "\n",
    "class CNN(nn.Module):\n",
    "    def __init__(self):\n",
    "        super(CNN, self).__init__()\n",
    "        self.name = \"CNN\"\n",
    "        self.conv1 = nn.Conv2d(1, output_channels_1, k)\n",
    "        self.pool = nn.MaxPool2d(2, 2)\n",
    "        self.conv2 = nn.Conv2d(output_channels_1, output_channels_2, k)\n",
    "        self.conv3 = nn.Conv2d(output_channels_2, output_channels_3, k)\n",
    "        self.fc1 = nn.Linear(output_channels_3 * 90 * 90, output_channels_1)\n",
    "        self.fc2 = nn.Linear(output_channels_1, 3)\n",
    "\n",
    "    def forward(self, x):\n",
    "        x = self.pool(F.relu(self.conv1(x)))\n",
    "        x = self.pool(F.relu(self.conv2(x)))\n",
    "        x = self.pool(F.relu(self.conv3(x)))\n",
    "        #print(x.shape)\n",
    "        x = x.view(-1, output_channels_3 * 90 * 90)\n",
    "        #print(x.shape)\n",
    "        x = F.relu(self.fc1(x))\n",
    "        #print(x.shape)\n",
    "        x = self.fc2(x)\n",
    "        x = x.squeeze(1)\n",
    "        return x\n",
    "    \n",
    "    print('Neural Network Architecture Selected')"
   ]
  },
  {
   "cell_type": "code",
   "execution_count": 255,
   "metadata": {},
   "outputs": [],
   "source": [
    "def get_dataloader(data_set: str, batch_size: int = 64):\n",
    "    return trainloader"
   ]
  },
  {
   "cell_type": "code",
   "execution_count": 256,
   "metadata": {},
   "outputs": [],
   "source": [
    "use_cuda =True\n",
    "def train(model, val_loader, train_loader, learning_rate=0.01, epochs=5, batch_size=64, use_toy_data=False):\n",
    "    torch.manual_seed(360)\n",
    "\n",
    "#     if use_toy_data:\n",
    "#         train_loader = get_dataloader(data_set='toy', batch_size=batch_size)\n",
    "#         val_loader = get_dataloader(data_set='toy', batch_size=batch_size)\n",
    "#     else:\n",
    "#         train_loader = get_dataloader(data_set='train', batch_size=batch_size)\n",
    "#         val_loader = get_dataloader(data_set='val', batch_size=batch_size)\n",
    "\n",
    "    criterion = nn.CrossEntropyLoss()\n",
    "    optimizer = optim.Adam(model.parameters(), lr=learning_rate)\n",
    "\n",
    "    train_acc = np.zeros(epochs)\n",
    "    train_loss = np.zeros(epochs)\n",
    "    val_acc = np.zeros(epochs)\n",
    "    val_loss = np.zeros(epochs)\n",
    "\n",
    "    n=0\n",
    "    iters = []\n",
    "    \n",
    "    for epoch in range(epochs):\n",
    "        for images, labels in train_loader:\n",
    "            if use_cuda and torch.cuda.is_available():\n",
    "                images = images.cuda()\n",
    "                labels = labels.cuda()\n",
    "\n",
    "            out = model(images.float()) # forward pass\n",
    "            loss = criterion(out, labels.long()) # compute the total loss\n",
    "            loss.backward() # backward pass (compute parameter updates)\n",
    "            optimizer.step() # make the updates for each parameter\n",
    "            optimizer.zero_grad() # a clean up step for PyTorch\n",
    "\n",
    "        train_acc[epoch], train_loss[epoch] = get_accuracy_and_loss(model, criterion, train_loader)\n",
    "        val_acc[epoch], val_loss[epoch] = get_accuracy_and_loss(model, criterion, val_loader)\n",
    "        iters.append(n)\n",
    "        n += 1\n",
    "\n",
    "        print(\"epoch: {} | train acc: {} | train loss: {} | val acc: {} | val loss: {}\".format(epoch, train_acc[epoch], train_loss[epoch], val_acc[epoch], val_loss[epoch]))\n",
    "    \n",
    "    # plotting\n",
    "    plt.title(\"Training Curve\")\n",
    "    plt.plot(iters, train_loss, label=\"Train\")\n",
    "    plt.xlabel(\"Iterations\")\n",
    "    plt.ylabel(\"Loss\")\n",
    "    plt.show()\n",
    "\n",
    "    plt.title(\"Training Curve\")\n",
    "    plt.plot(iters, train_acc, label=\"Train\")\n",
    "    plt.plot(iters, val_acc, label=\"Validation\")\n",
    "    plt.xlabel(\"Iterations\")\n",
    "    plt.ylabel(\"Training Accuracy\")\n",
    "    plt.legend(loc='best')\n",
    "    plt.show()\n",
    "    \n",
    "    return train_acc, train_loss, val_acc, val_loss"
   ]
  },
  {
   "cell_type": "code",
   "execution_count": 257,
   "metadata": {},
   "outputs": [],
   "source": [
    "use_cuda =True\n",
    "def get_accuracy_and_loss(model, criterion, data_loader) -> tuple:\n",
    "    total_acc = 0.0\n",
    "    total_loss = 0.0\n",
    "    total_epoch = 0\n",
    "    for i, data in enumerate(data_loader, 0):\n",
    "        imgs, labels = data\n",
    "        if use_cuda and torch.cuda.is_available():\n",
    "            imgs = imgs.cuda()\n",
    "            labels = labels.cuda()\n",
    "\n",
    "        output = model(imgs.float())\n",
    "        loss = criterion(output, labels.long())\n",
    "        #select index with maximum prediction score\n",
    "        pred = output.max(1, keepdim=True)[1]\n",
    "        correct = pred.eq(labels.view_as(pred)).sum().item()\n",
    "\n",
    "        total_acc += correct\n",
    "        total_loss += loss.item()\n",
    "        total_epoch += len(labels)\n",
    "    \n",
    "    acc = float(total_acc) / total_epoch\n",
    "    loss = float(total_loss) / (i + 1)\n",
    "\n",
    "    return acc, loss"
   ]
  },
  {
   "cell_type": "code",
   "execution_count": 258,
   "metadata": {},
   "outputs": [],
   "source": [
    "batch_size = 10\n",
    "\n",
    "val_loader = torch.utils.data.DataLoader(data[501:600], shuffle=True, batch_size=batch_size)\n",
    "test_loader = torch.utils.data.DataLoader(data[601:], shuffle=True, batch_size=batch_size)\n",
    "train_loader = torch.utils.data.DataLoader(data[0:500], shuffle=True, batch_size=batch_size)"
   ]
  },
  {
   "cell_type": "code",
   "execution_count": 259,
   "metadata": {},
   "outputs": [
    {
     "name": "stdout",
     "output_type": "stream",
     "text": [
      "using cuda!\n",
      "epoch: 0 | train acc: 0.874 | train loss: 0.47890513241291044 | val acc: 0.8282828282828283 | val loss: 0.46535049974918363\n",
      "epoch: 1 | train acc: 0.998 | train loss: 0.1449756334722042 | val acc: 0.9090909090909091 | val loss: 0.3299142099916935\n",
      "epoch: 2 | train acc: 1.0 | train loss: 0.03570580537896603 | val acc: 0.8383838383838383 | val loss: 0.44400614881888034\n",
      "epoch: 3 | train acc: 1.0 | train loss: 0.0071815021336078646 | val acc: 0.8888888888888888 | val loss: 0.45256361074279994\n",
      "epoch: 4 | train acc: 1.0 | train loss: 0.003381022230751114 | val acc: 0.8888888888888888 | val loss: 0.4715139227337204\n",
      "epoch: 5 | train acc: 1.0 | train loss: 0.0019683385972166434 | val acc: 0.8787878787878788 | val loss: 0.5234910125844181\n",
      "epoch: 6 | train acc: 1.0 | train loss: 0.0013371636848023628 | val acc: 0.8888888888888888 | val loss: 0.5265743695694255\n",
      "epoch: 7 | train acc: 1.0 | train loss: 0.000971804732689634 | val acc: 0.8888888888888888 | val loss: 0.5537795007228852\n",
      "epoch: 8 | train acc: 1.0 | train loss: 0.0007158234741655178 | val acc: 0.8888888888888888 | val loss: 0.5571943022310734\n",
      "epoch: 9 | train acc: 1.0 | train loss: 0.0005601512348221149 | val acc: 0.8888888888888888 | val loss: 0.5796154400683008\n"
     ]
    },
    {
     "data": {
      "image/png": "[encoded data removed]",
      "text/plain": [
       "<Figure size 432x288 with 1 Axes>"
      ]
     },
     "metadata": {
      "needs_background": "light"
     },
     "output_type": "display_data"
    },
    {
     "data": {
      "image/png": "[encoded data removed]",
      "text/plain": [
       "<Figure size 432x288 with 1 Axes>"
      ]
     },
     "metadata": {
      "needs_background": "light"
     },
     "output_type": "display_data"
    },
    {
     "name": "stdout",
     "output_type": "stream",
     "text": [
      "training time: 224.9573061466217\n"
     ]
    }
   ],
   "source": [
    "# try training\n",
    "\n",
    "use_cuda = True\n",
    "lr = 0.0001\n",
    "epochs = 10\n",
    "\n",
    "model = CNN()\n",
    "\n",
    "if use_cuda and torch.cuda.is_available():\n",
    "    print(\"using cuda!\")\n",
    "    model.cuda()\n",
    "\n",
    "import time\n",
    "\n",
    "start = time.time()\n",
    "train_acc = train(model, learning_rate=lr, epochs=epochs, batch_size=batch_size, use_toy_data=True, val_loader=val_loader, train_loader=train_loader)\n",
    "end = time.time()\n",
    "print('training time:', end-start)"
   ]
  },
  {
   "cell_type": "code",
   "execution_count": 260,
   "metadata": {},
   "outputs": [
    {
     "name": "stdout",
     "output_type": "stream",
     "text": [
      "0.9586776859504132 0.1408550126647102\n"
     ]
    }
   ],
   "source": [
    "# test model\n",
    "\n",
    "acc, loss = get_accuracy_and_loss(model=model, criterion=nn.CrossEntropyLoss(), data_loader=test_loader)\n",
    "print(acc, loss)"
   ]
  },
  {
   "cell_type": "code",
   "execution_count": 261,
   "metadata": {},
   "outputs": [
    {
     "name": "stdout",
     "output_type": "stream",
     "text": [
      "torch.Size([1, 1, 750, 750])\n",
      "training time: 0.0011920928955078125\n",
      "torch.Size([1, 1, 750, 750])\n",
      "float64\n"
     ]
    },
    {
     "data": {
      "image/png": "[encoded data removed]",
      "text/plain": [
       "<Figure size 288x288 with 1 Axes>"
      ]
     },
     "metadata": {
      "needs_background": "light"
     },
     "output_type": "display_data"
    },
    {
     "name": "stdout",
     "output_type": "stream",
     "text": [
      "predicted: tensor([[ 9.3698, -5.4246, -1.2612]], device='cuda:0',\n",
      "       grad_fn=<SqueezeBackward1>)\n",
      "actual: tensor([0.], dtype=torch.float64)\n"
     ]
    }
   ],
   "source": [
    "#sample prediction\n",
    "sample_loader = torch.utils.data.DataLoader(data[601], shuffle=True, batch_size=1)\n",
    "\n",
    "image, label = iter(sample_loader)\n",
    "print(image.shape)\n",
    "if use_cuda and torch.cuda.is_available():\n",
    "    image = image.cuda()\n",
    "    labels = label.cuda()\n",
    "    model.cuda()\n",
    "start = time.time()\n",
    "out = model(image.to(\"cuda\", dtype=torch.float))\n",
    "end = time.time()\n",
    "print('training time:', end-start)\n",
    "\n",
    "#plotting\n",
    "\n",
    "print(image.shape)\n",
    "plot_image = torch.squeeze(image).detach().cpu().numpy()\n",
    "print(plot_image.dtype)\n",
    "plot_image[plot_image == 0] = np.nan\n",
    "plt.matshow(plot_image)\n",
    "plt.show()\n",
    "\n",
    "print('predicted:', out)\n",
    "print('actual:', label)\n"
   ]
  },
  {
   "cell_type": "markdown",
   "metadata": {},
   "source": [
    "# FCNN"
   ]
  },
  {
   "cell_type": "code",
   "execution_count": 174,
   "metadata": {},
   "outputs": [],
   "source": [
    "# function to plot 1-dimensional FFT array or tensor\n",
    "def plot_spectrum(img_fft, tensor_flag = 0):\n",
    "  #take fft tensor in [x,y,3] shape\n",
    "  from matplotlib.colors import LogNorm\n",
    "  if (tensor_flag == 0):\n",
    "    img_np_fft = img_fft.cpu().numpy()\n",
    "    # A logarithmic colormap\n",
    "    plt.imshow(np.abs(img_np_fft), norm=LogNorm(vmin=5))\n",
    "    plt.colorbar()\n",
    "  else:\n",
    "    # A logarithmic colormap\n",
    "    plt.imshow(np.abs(img_fft), norm=LogNorm(vmin=5))\n",
    "    plt.colorbar()"
   ]
  },
  {
   "cell_type": "code",
   "execution_count": 175,
   "metadata": {},
   "outputs": [],
   "source": [
    "#filters\n",
    "def distance(point1,point2):\n",
    "    return np.sqrt((point1[0]-point2[0])**2 + (point1[1]-point2[1])**2)\n",
    "\n",
    "# ideal filter\n",
    "def idealFilterLP(D0,imgShape):\n",
    "    base = np.zeros(imgShape[2:])\n",
    "    rows, cols = imgShape[2:]\n",
    "    center = (rows/2,cols/2)\n",
    "    for x in range(cols):\n",
    "        for y in range(rows):\n",
    "            if distance((y,x),center) < D0:\n",
    "                base[y,x] = 1\n",
    "    return torch.from_numpy(base)\n",
    "\n",
    "def idealFilterHP(D0,imgShape):\n",
    "    base = np.ones(imgShape[2:])\n",
    "    rows, cols = imgShape[2:]\n",
    "    center = (rows/2,cols/2)\n",
    "    for x in range(cols):\n",
    "        for y in range(rows):\n",
    "            if distance((y,x),center) < D0:\n",
    "                base[y,x] = 0\n",
    "    return torch.from_numpy(base)\n",
    "\n",
    "# butterworth filter\n",
    "def butterworthLP(D0,imgShape,n):\n",
    "    base = np.zeros(imgShape[2:])\n",
    "    rows, cols = imgShape[2:]\n",
    "    center = (rows/2,cols/2)\n",
    "    for x in range(cols):\n",
    "        for y in range(rows):\n",
    "            base[y,x] = 1/(1+(distance((y,x),center)/D0)**(2*n))\n",
    "    return torch.from_numpy(base)\n",
    "\n",
    "def butterworthHP(D0,imgShape,n):\n",
    "    base = np.zeros(imgShape[2:])\n",
    "    rows, cols = imgShape[2:]\n",
    "    center = (rows/2,cols/2)\n",
    "    for x in range(cols):\n",
    "        for y in range(rows):\n",
    "            base[y,x] = 1-1/(1+(distance((y,x),center)/D0)**(2*n))\n",
    "    return torch.from_numpy(base)\n",
    "\n",
    "# Gaussian Filter\n",
    "def gaussianLP(D0,imgShape):\n",
    "    base = np.zeros(imgShape[2:])\n",
    "    rows, cols = imgShape[2:]\n",
    "    center = (rows/2,cols/2)\n",
    "    for x in range(cols):\n",
    "        for y in range(rows):\n",
    "            base[y,x] = exp(((-distance((y,x),center)**2)/(2*(D0**2))))\n",
    "    return torch.from_numpy(base)\n",
    "\n",
    "def gaussianHP(D0,imgShape):\n",
    "    base = np.zeros(imgShape[2:])\n",
    "    rows, cols = imgShape[2:]\n",
    "    center = (rows/2,cols/2)\n",
    "    for x in range(cols):\n",
    "        for y in range(rows):\n",
    "            base[y,x] = 1 - exp(((-distance((y,x),center)**2)/(2*(D0**2))))\n",
    "    return torch.from_numpy(base)"
   ]
  },
  {
   "cell_type": "code",
   "execution_count": 176,
   "metadata": {},
   "outputs": [],
   "source": [
    "#filter selection\n",
    "# flag_HL: if it is 0, return low pass filter. If it is 1, return high pass filter\n",
    "# filter_type: 0 - idea, 1 - butterworth, 2 - Gaussian\n",
    "# D0: diameter of filter\n",
    "# imgShape: filter size based on image shape\n",
    "# n?\n",
    "def filter_selection(flag_HL, filter_type, D0, imgShape, n):\n",
    "  if (filter_type == 0 and flag_HL == 0):   return idealFilterLP(D0, imgShape).cuda()\n",
    "  elif (filter_type == 0 and flag_HL == 1): return idealFilterHP(D0, imgShape).cuda()\n",
    "  elif (filter_type == 1 and flag_HL == 0): return butterworthLP(D0,imgShape,n).cuda()\n",
    "  elif (filter_type == 1 and flag_HL == 1): return butterworthHP(D0,imgShape,n).cuda()\n",
    "  elif (filter_type == 2 and flag_HL == 0): return gaussianLP(D0,imgShape).cuda()\n",
    "  elif (filter_type == 2 and flag_HL == 1): return gaussianHP(D0,imgShape).cuda()\n",
    "  else:  return idealFilterHP(D0, imgShape).cuda() # as default "
   ]
  },
  {
   "cell_type": "code",
   "execution_count": 177,
   "metadata": {},
   "outputs": [],
   "source": [
    "#FCNN layer\n",
    "class FConv2d(nn.Module):\n",
    "    def __init__(self, flag_hl, filter_t, d0, n):\n",
    "        super(self.__class__, self).__init__()\n",
    "        self.flag_hl = flag_hl\n",
    "        self.filter_t = filter_t\n",
    "        self.d0 = d0\n",
    "        self.n = n\n",
    "\n",
    "    def forward(self, x):\n",
    "        w = filter_selection(self.flag_hl, self.filter_t, self.d0, x.shape, self.n)\n",
    "        #w = torch.unsqueeze(fft.fftn(w), dim=0)\n",
    "        w = torch.unsqueeze(w, dim=0)\n",
    "        w = torch.unsqueeze(w, dim=0)\n",
    "        x = fft.fftn(x, dim=[2,3])\n",
    "        y = w * x\n",
    "\n",
    "        return fft.ifftn(y).real.float()"
   ]
  },
  {
   "cell_type": "code",
   "execution_count": 178,
   "metadata": {},
   "outputs": [
    {
     "name": "stdout",
     "output_type": "stream",
     "text": [
      "Fast Fourier Transform Convolutional Neural Network Architecture Selected\n"
     ]
    }
   ],
   "source": [
    "output_channels_1 = 16\n",
    "output_channels_2 = 32\n",
    "output_channels_3 = 64\n",
    "k = 5\n",
    "input_size_fc1 = 8649\n",
    "input_size_fc1_2 = 138384\n",
    "\n",
    "#Fast Fourier Transform Convolutional Neural Network Architecture\n",
    "class FCNN(nn.Module):\n",
    "    def __init__(self):\n",
    "        super(FCNN, self).__init__()\n",
    "        self.fcov1 = FConv2d(0,1,250,20)\n",
    "        self.fcov2 = FConv2d(0,1,100,10)\n",
    "        self.fcov3 = FConv2d(0,1,50,2)\n",
    "        self.conv1 = nn.Conv2d(1, output_channels_1, k)\n",
    "        self.conv2 = nn.Conv2d(output_channels_1, output_channels_2, k)\n",
    "        self.conv3 = nn.Conv2d(output_channels_2, output_channels_3, k)\n",
    "        self.pool = nn.MaxPool2d(2, 2) #kernel_size, stride \n",
    "        self.fc1 = nn.Linear(input_size_fc1_2, output_channels_1)\n",
    "        self.fc2 = nn.Linear(output_channels_1, 3)\n",
    "        \n",
    "    def forward(self, x):\n",
    "        x = self.pool(F.relu(self.conv1(self.fcov1(x))))\n",
    "        x = self.pool(F.relu(self.fcov2(x)))\n",
    "        x = self.pool(F.relu(self.fcov3(x)))\n",
    "        x = x.view(-1, input_size_fc1_2)\n",
    "        x = F.relu(self.fc1(x))\n",
    "        x = self.fc2(x)\n",
    "        x = x.squeeze(1)\n",
    "        return x\n",
    "    \n",
    "    print('Fast Fourier Transform Convolutional Neural Network Architecture Selected')"
   ]
  },
  {
   "cell_type": "code",
   "execution_count": 179,
   "metadata": {},
   "outputs": [],
   "source": [
    "# #test code section by section\n",
    "# for images, labels in train_loader:\n",
    "#     print(images.shape)\n",
    "#     test_W = filter_selection(0,0,50,images.shape,10)\n",
    "#     un_tw = torch.unsqueeze(test_W, dim=0)\n",
    "#     un2_tw = torch.unsqueeze(un_tw, dim=0)\n",
    "#     print(test_W[350][350])\n",
    "#     plt.figure()\n",
    "#     plot_spectrum(test_W)\n",
    "#     print(un_tw)\n",
    "#     print(un2_tw.shape)\n",
    "#     ttt  = un2_tw * images\n",
    "#     print(ttt.shape)\n",
    "    \n",
    "#     #for i in range(batch_size):\n",
    "#     #    ttt  = un2_tw * images\n",
    "#     #    print(ttt.shape)\n",
    "#     #c_un2_tw = torch.cat((un2_tw, un2_tw, un2_tw,un2_tw,un2_tw,un2_tw,un2_tw,un2_tw,un2_tw,un2_tw), dim=0)\n",
    "#     #print(c_un2_tw.shape)\n",
    "    \n",
    "#     #tt = images * c_un2_tw\n",
    "    \n",
    "#     break;\n",
    "\n"
   ]
  },
  {
   "cell_type": "code",
   "execution_count": 251,
   "metadata": {},
   "outputs": [
    {
     "name": "stdout",
     "output_type": "stream",
     "text": [
      "using cuda!\n",
      "epoch: 0 | train acc: 0.158 | train loss: 1.154045386314392 | val acc: 0.020202020202020204 | val loss: 1.1948378801345825\n",
      "epoch: 1 | train acc: 0.158 | train loss: 1.144830801486969 | val acc: 0.020202020202020204 | val loss: 1.1781402707099915\n"
     ]
    },
    {
     "data": {
      "image/png": "[encoded data removed]",
      "text/plain": [
       "<Figure size 432x288 with 1 Axes>"
      ]
     },
     "metadata": {
      "needs_background": "light"
     },
     "output_type": "display_data"
    },
    {
     "data": {
      "image/png": "[encoded data removed]",
      "text/plain": [
       "<Figure size 432x288 with 1 Axes>"
      ]
     },
     "metadata": {
      "needs_background": "light"
     },
     "output_type": "display_data"
    },
    {
     "name": "stdout",
     "output_type": "stream",
     "text": [
      "training time: 430.86121582984924\n"
     ]
    }
   ],
   "source": [
    "batch_size = 10\n",
    "\n",
    "# try training\n",
    "\n",
    "use_cuda = True\n",
    "lr = 0.0001\n",
    "epochs = 2\n",
    "\n",
    "fcnn_model = FCNN()\n",
    "\n",
    "if use_cuda and torch.cuda.is_available():\n",
    "    print(\"using cuda!\")\n",
    "    fcnn_model.cuda()\n",
    "\n",
    "import time\n",
    "\n",
    "start = time.time()\n",
    "train_acc = train(fcnn_model, learning_rate=lr, epochs=epochs, batch_size=batch_size, use_toy_data=True, val_loader=val_loader, train_loader=train_loader)\n",
    "end = time.time()\n",
    "print('training time:', end-start)"
   ]
  },
  {
   "cell_type": "code",
   "execution_count": 181,
   "metadata": {},
   "outputs": [
    {
     "name": "stdout",
     "output_type": "stream",
     "text": [
      "0.9586776859504132 0.8776396730771432\n"
     ]
    }
   ],
   "source": [
    "#Test\n",
    "acc, loss = get_accuracy_and_loss(model=fcnn_model, criterion=nn.CrossEntropyLoss(), data_loader=test_loader)\n",
    "print(acc, loss)"
   ]
  },
  {
   "cell_type": "code",
   "execution_count": 250,
   "metadata": {},
   "outputs": [
    {
     "data": {
      "text/plain": [
       "9479"
      ]
     },
     "execution_count": 250,
     "metadata": {},
     "output_type": "execute_result"
    }
   ],
   "source": [
    "#import gc\n",
    "\n",
    "#del fcnn_model #delete unnecessary variables \n",
    "#gc.collect()"
   ]
  },
  {
   "cell_type": "code",
   "execution_count": 183,
   "metadata": {},
   "outputs": [],
   "source": [
    "import matplotlib.pyplot as plt\n",
    "from matplotlib import cm\n",
    "from mpl_toolkits.mplot3d import Axes3D\n",
    "\n",
    "def plt_3d_scatter(x, y, z, xlabel, ylabel, zlabel):\n",
    "    fig_3d = plt.figure(figsize=[15,6])\n",
    "    ax = fig_3d.gca(projection='3d')\n",
    "    ax.scatter(x,y,z, cmap=cm.coolwarm, linewidth=0, antialiased=True)\n",
    "    \n",
    "    ax.set_xlabel(xlabel)\n",
    "    ax.set_ylabel(ylabel)\n",
    "    ax.set_zlabel(zlabel)\n",
    "    plt.show()"
   ]
  },
  {
   "cell_type": "code",
   "execution_count": 184,
   "metadata": {},
   "outputs": [
    {
     "name": "stdout",
     "output_type": "stream",
     "text": [
      "Fast Fourier Transform Convolutional Neural Network Architecture Selected\n"
     ]
    }
   ],
   "source": [
    "output_channels_1 = 16\n",
    "output_channels_2 = 32\n",
    "output_channels_3 = 64\n",
    "k = 5\n",
    "input_size_fc1 = 8649\n",
    "#input_size_fc1 = 5184000\n",
    "input_size_fc1_1 = 518400\n",
    "input_size_fc1_2 = 138384\n",
    "input_size_fc1_3 = 2708480\n",
    "input_size_fc1_4 = 5184000\n",
    "\n",
    "#Fast Fourier Transform Convolutional Neural Network Architecture\n",
    "class FCNN2(nn.Module):\n",
    "    def __init__(self):\n",
    "        super(FCNN2, self).__init__()\n",
    "        self.fcov1 = FConv2d(1,1,250,20)\n",
    "        self.fcov2 = FConv2d(1,1,100,10)\n",
    "        self.fcov3 = FConv2d(1,1,50,2)\n",
    "        self.conv1 = nn.Conv2d(1, output_channels_1, k)\n",
    "        self.conv2 = nn.Conv2d(output_channels_1, output_channels_2, k)\n",
    "        self.conv3 = nn.Conv2d(output_channels_2, output_channels_3, k)\n",
    "        self.pool = nn.MaxPool2d(2, 2) #kernel_size, stride \n",
    "#        self.fc1 = nn.Linear(input_size_fc1_1, output_channels_1)\n",
    "        self.fc1 = nn.Linear(input_size_fc1_2, output_channels_1)\n",
    "#        self.fc1 = nn.Linear(input_size_fc1_3, output_channels_1)\n",
    "        self.fc2 = nn.Linear(output_channels_1, 3)\n",
    "        \n",
    "    def forward(self, x):\n",
    "        x = self.pool(F.relu(self.conv1(self.fcov1(x))))\n",
    "        x = self.pool(F.relu(self.fcov2(x)))\n",
    "        x = self.pool(F.relu(self.fcov3(x)))\n",
    "        x = x.view(-1, input_size_fc1_2)\n",
    "        x = F.relu(self.fc1(x))\n",
    "        x = self.fc2(x)\n",
    "        x = x.squeeze(1)\n",
    "        return x\n",
    "    \n",
    "    print('Fast Fourier Transform Convolutional Neural Network Architecture Selected')"
   ]
  },
  {
   "cell_type": "code",
   "execution_count": 185,
   "metadata": {},
   "outputs": [
    {
     "name": "stdout",
     "output_type": "stream",
     "text": [
      "Fast Fourier Transform Convolutional Neural Network Architecture Selected\n"
     ]
    }
   ],
   "source": [
    "output_channels_1 = 16\n",
    "output_channels_2 = 32\n",
    "output_channels_3 = 64\n",
    "k = 5\n",
    "input_size_fc1 = 8649\n",
    "#input_size_fc1 = 5184000\n",
    "input_size_fc1_1 = 518400\n",
    "input_size_fc1_2 = 138384\n",
    "input_size_fc1_3 = 2708480\n",
    "input_size_fc1_4 = 5184000\n",
    "\n",
    "#Fast Fourier Transform Convolutional Neural Network Architecture\n",
    "class FCNN3(nn.Module):\n",
    "    def __init__(self):\n",
    "        super(FCNN3, self).__init__()\n",
    "        self.fcov1 = FConv2d(2,1,250,20)\n",
    "        self.fcov2 = FConv2d(2,1,100,10)\n",
    "        self.fcov3 = FConv2d(2,1,50,2)\n",
    "        self.conv1 = nn.Conv2d(1, output_channels_1, k)\n",
    "        self.conv2 = nn.Conv2d(output_channels_1, output_channels_2, k)\n",
    "        self.conv3 = nn.Conv2d(output_channels_2, output_channels_3, k)\n",
    "        self.pool = nn.MaxPool2d(2, 2) #kernel_size, stride \n",
    "#        self.fc1 = nn.Linear(input_size_fc1_1, output_channels_1)\n",
    "        self.fc1 = nn.Linear(input_size_fc1_2, output_channels_1)\n",
    "#        self.fc1 = nn.Linear(input_size_fc1_3, output_channels_1)\n",
    "        self.fc2 = nn.Linear(output_channels_1, 3)\n",
    "        \n",
    "    def forward(self, x):\n",
    "        x = self.pool(F.relu(self.conv1(self.fcov1(x))))\n",
    "        x = self.pool(F.relu(self.fcov2(x)))\n",
    "        x = self.pool(F.relu(self.fcov3(x)))\n",
    "        x = x.view(-1, input_size_fc1_2)\n",
    "        x = F.relu(self.fc1(x))\n",
    "        x = self.fc2(x)\n",
    "        x = x.squeeze(1)\n",
    "        return x\n",
    "    \n",
    "    print('Fast Fourier Transform Convolutional Neural Network Architecture Selected')"
   ]
  },
  {
   "cell_type": "code",
   "execution_count": 253,
   "metadata": {},
   "outputs": [
    {
     "name": "stdout",
     "output_type": "stream",
     "text": [
      "torch.Size([1, 1, 750, 750])\n",
      "torch.Size([1, 1, 750, 750])\n",
      "training time: 1.7899296283721924\n"
     ]
    },
    {
     "data": {
      "image/png": "[encoded data removed]",
      "text/plain": [
       "<Figure size 288x288 with 1 Axes>"
      ]
     },
     "metadata": {
      "needs_background": "light"
     },
     "output_type": "display_data"
    },
    {
     "name": "stdout",
     "output_type": "stream",
     "text": [
      "predicted: tensor([[-0.0382, -0.0006, -0.2281]], device='cuda:0',\n",
      "       grad_fn=<SqueezeBackward1>)\n",
      "actual: tensor([0.], device='cuda:0', dtype=torch.float64)\n"
     ]
    }
   ],
   "source": [
    "#sample prediction\n",
    "sample_loader = torch.utils.data.DataLoader(data[601], shuffle=True, batch_size=1)\n",
    "\n",
    "image, label = iter(sample_loader)\n",
    "print(image.shape)\n",
    "if use_cuda and torch.cuda.is_available():\n",
    "    image = image.cuda()\n",
    "    label = label.cuda()\n",
    "print(image.shape)\n",
    "\n",
    "start = time.time()\n",
    "out = fcnn_model(image)\n",
    "end = time.time()\n",
    "print('training time:', end-start)\n",
    "\n",
    "# plotting\n",
    "\n",
    "plot_image = torch.squeeze(image).detach().cpu().numpy()\n",
    "plot_image[plot_image == 0] = np.nan\n",
    "plt.matshow(plot_image)\n",
    "plt.show()\n",
    "\n",
    "print('predicted:', out)\n",
    "print('actual:', label)"
   ]
  },
  {
   "cell_type": "code",
   "execution_count": null,
   "metadata": {},
   "outputs": [],
   "source": [
    "#demo prediction\n",
    "demo_loader = torch.utils.data.DataLoader(data[601:], shuffle=True, batch_size=1)\n",
    "\n",
    "image, label = iter(demo_loader).next()\n",
    "# plotting\n",
    "plot_image = torch.squeeze(image).detach().cpu().numpy()\n",
    "plot_image[plot_image == 0] = np.nan\n",
    "plt.matshow(plot_image)\n",
    "plt.show()\n",
    "plt.savefig('1.png')\n",
    "\n",
    "model.cuda()\n",
    "fcnn_model.cuda()\n",
    "\n",
    "startc = time.time()\n",
    "acc, loss = get_accuracy_and_loss(model=model, criterion=nn.CrossEntropyLoss(), data_loader=demo_loader)\n",
    "endc = time.time()\n",
    "timec = endc-startc\n",
    "print('CNN:', acc, loss)\n",
    "print('training time is %s seconds' % timec)\n",
    "\n",
    "startf = time.time()\n",
    "acc, loss = get_accuracy_and_loss(model=fcnn_model, criterion=nn.CrossEntropyLoss(), data_loader=demo_loader)\n",
    "print('FCNN:', acc, loss)\n",
    "endf = time.time()\n",
    "timef = endf-startf\n",
    "print('training time is %s seconds' % timef)\n"
   ]
  },
  {
   "cell_type": "code",
   "execution_count": null,
   "metadata": {},
   "outputs": [],
   "source": [
    "plot_image = torch.squeeze(image).detach().cpu().numpy()\n",
    "plt.matshow(plot_image)\n",
    "plt.show()"
   ]
  },
  {
   "cell_type": "code",
   "execution_count": null,
   "metadata": {},
   "outputs": [],
   "source": []
  }
 ],
 "metadata": {
  "colab": {
   "authorship_tag": "ABX9TyP60EWs3RNfJg6EisYBlW48",
   "collapsed_sections": [],
   "name": "data.ipynb",
   "provenance": [],
   "toc_visible": true
  },
  "environment": {
   "name": "common-cu110.m59",
   "type": "gcloud",
   "uri": "gcr.io/deeplearning-platform-release/base-cu110:m59"
  },
  "kernelspec": {
   "display_name": "Python 3",
   "language": "python",
   "name": "python3"
  },
  "language_info": {
   "codemirror_mode": {
    "name": "ipython",
    "version": 3
   },
   "file_extension": ".py",
   "mimetype": "text/x-python",
   "name": "python",
   "nbconvert_exporter": "python",
   "pygments_lexer": "ipython3",
   "version": "3.7.8"
  }
 },
 "nbformat": 4,
 "nbformat_minor": 4
}
